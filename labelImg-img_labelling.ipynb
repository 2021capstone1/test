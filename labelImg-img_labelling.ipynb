{
 "cells": [
  {
   "cell_type": "code",
   "execution_count": 1,
   "id": "43f8e907",
   "metadata": {
    "collapsed": true
   },
   "outputs": [
    {
     "name": "stdout",
     "output_type": "stream",
     "text": [
      "Collecting labelImg\n",
      "  Downloading labelImg-1.8.5.tar.gz (247 kB)\n",
      "Collecting pyqt5\n",
      "  Downloading PyQt5-5.15.4-cp36.cp37.cp38.cp39-none-win_amd64.whl (6.8 MB)\n",
      "Requirement already satisfied: lxml in c:\\users\\fbk\\anaconda3\\lib\\site-packages (from labelImg) (4.6.3)\n",
      "Collecting PyQt5-sip<13,>=12.8\n",
      "  Downloading PyQt5_sip-12.9.0-cp38-cp38-win_amd64.whl (63 kB)\n",
      "Collecting PyQt5-Qt5>=5.15\n",
      "  Downloading PyQt5_Qt5-5.15.2-py3-none-win_amd64.whl (50.1 MB)\n",
      "Building wheels for collected packages: labelImg\n",
      "  Building wheel for labelImg (setup.py): started\n",
      "  Building wheel for labelImg (setup.py): finished with status 'done'\n",
      "  Created wheel for labelImg: filename=labelImg-1.8.5-py2.py3-none-any.whl size=258429 sha256=85471b2ce8dba318e222aac6992752806cf49bcbb82e91a96c115a1104cfa040\n",
      "  Stored in directory: c:\\users\\fbk\\appdata\\local\\pip\\cache\\wheels\\3c\\ed\\c1\\81458369008797b88906dbaf007f606b481052b64c814b8325\n",
      "Successfully built labelImg\n",
      "Installing collected packages: PyQt5-sip, PyQt5-Qt5, pyqt5, labelImg\n",
      "Successfully installed PyQt5-Qt5-5.15.2 PyQt5-sip-12.9.0 labelImg-1.8.5 pyqt5-5.15.4\n"
     ]
    },
    {
     "name": "stderr",
     "output_type": "stream",
     "text": [
      "ERROR: pip's dependency resolver does not currently take into account all the packages that are installed. This behaviour is the source of the following dependency conflicts.\n",
      "spyder 4.2.5 requires pyqtwebengine<5.13, which is not installed.\n",
      "spyder 4.2.5 requires pyqt5<5.13, but you have pyqt5 5.15.4 which is incompatible.\n"
     ]
    }
   ],
   "source": [
    "!pip3 install labelImg"
   ]
  },
  {
   "cell_type": "code",
   "execution_count": 3,
   "id": "e57b5d6c",
   "metadata": {
    "collapsed": true
   },
   "outputs": [
    {
     "name": "stdout",
     "output_type": "stream",
     "text": [
      "Collecting pyqtwebengine==5.12\n",
      "  Downloading PyQtWebEngine-5.12-5.12.1-cp35.cp36.cp37.cp38-none-win_amd64.whl (47.8 MB)\n",
      "Requirement already satisfied: PyQt5>=5.12 in c:\\users\\fbk\\anaconda3\\lib\\site-packages (from pyqtwebengine==5.12) (5.15.4)\n",
      "Requirement already satisfied: PyQt5-sip<13,>=12.8 in c:\\users\\fbk\\anaconda3\\lib\\site-packages (from PyQt5>=5.12->pyqtwebengine==5.12) (12.9.0)\n",
      "Requirement already satisfied: PyQt5-Qt5>=5.15 in c:\\users\\fbk\\anaconda3\\lib\\site-packages (from PyQt5>=5.12->pyqtwebengine==5.12) (5.15.2)\n",
      "Installing collected packages: pyqtwebengine\n",
      "Successfully installed pyqtwebengine-5.12\n"
     ]
    },
    {
     "name": "stderr",
     "output_type": "stream",
     "text": [
      "ERROR: pip's dependency resolver does not currently take into account all the packages that are installed. This behaviour is the source of the following dependency conflicts.\n",
      "spyder 4.2.5 requires pyqt5<5.13, but you have pyqt5 5.15.4 which is incompatible.\n"
     ]
    }
   ],
   "source": [
    "!pip3 install pyqtwebengine==5.12"
   ]
  },
  {
   "cell_type": "code",
   "execution_count": 4,
   "id": "927f207a",
   "metadata": {
    "collapsed": true
   },
   "outputs": [
    {
     "name": "stdout",
     "output_type": "stream",
     "text": [
      "Collecting pyqt5==5.12\n",
      "  Downloading PyQt5-5.12-5.12.1_a-cp35.cp36.cp37.cp38-none-win_amd64.whl (49.4 MB)\n",
      "Collecting PyQt5_sip<4.20,>=4.19.14\n",
      "  Downloading PyQt5_sip-4.19.19-cp38-none-win_amd64.whl (52 kB)\n",
      "Installing collected packages: PyQt5-sip, pyqt5\n",
      "  Attempting uninstall: PyQt5-sip\n",
      "    Found existing installation: PyQt5-sip 12.9.0\n",
      "    Uninstalling PyQt5-sip-12.9.0:\n",
      "      Successfully uninstalled PyQt5-sip-12.9.0\n",
      "  Attempting uninstall: pyqt5\n",
      "    Found existing installation: PyQt5 5.15.4\n",
      "    Uninstalling PyQt5-5.15.4:\n",
      "      Successfully uninstalled PyQt5-5.15.4\n",
      "Successfully installed PyQt5-sip-4.19.19 pyqt5-5.12\n"
     ]
    }
   ],
   "source": [
    "!pip3 install pyqt5==5.12"
   ]
  },
  {
   "cell_type": "code",
   "execution_count": 7,
   "id": "1907af49",
   "metadata": {
    "scrolled": true
   },
   "outputs": [
    {
     "name": "stderr",
     "output_type": "stream",
     "text": [
      "Traceback (most recent call last):\n",
      "  File \"labelImg/labelImg.py\", line 33, in <module>\n",
      "    from libs.resources import *\n",
      "ModuleNotFoundError: No module named 'libs.resources'\n"
     ]
    }
   ],
   "source": [
    "!python labelImg/labelImg.py"
   ]
  },
  {
   "cell_type": "code",
   "execution_count": 11,
   "id": "63b0fbd1",
   "metadata": {},
   "outputs": [
    {
     "ename": "SyntaxError",
     "evalue": "invalid syntax (<ipython-input-11-c35a28aa999e>, line 1)",
     "output_type": "error",
     "traceback": [
      "\u001b[1;36m  File \u001b[1;32m\"<ipython-input-11-c35a28aa999e>\"\u001b[1;36m, line \u001b[1;32m1\u001b[0m\n\u001b[1;33m    pyrcc5 -o libs/resources.py resources.qrc\u001b[0m\n\u001b[1;37m              ^\u001b[0m\n\u001b[1;31mSyntaxError\u001b[0m\u001b[1;31m:\u001b[0m invalid syntax\n"
     ]
    }
   ],
   "source": [
    "!pyrcc5 -o libs/resources.py resources.qrc"
   ]
  },
  {
   "cell_type": "code",
   "execution_count": 10,
   "id": "2df3aedb",
   "metadata": {},
   "outputs": [
    {
     "data": {
      "text/plain": [
       "'C:\\\\Users\\\\FBK\\\\Desktop\\\\capstone\\\\practice_1007'"
      ]
     },
     "execution_count": 10,
     "metadata": {},
     "output_type": "execute_result"
    }
   ],
   "source": [
    "pwd"
   ]
  },
  {
   "cell_type": "code",
   "execution_count": 13,
   "id": "98bb7733",
   "metadata": {},
   "outputs": [
    {
     "name": "stdout",
     "output_type": "stream",
     "text": [
      "[WinError 2] 지정된 파일을 찾을 수 없습니다: 'labelImg'\n",
      "C:\\Users\\FBK\\Desktop\\capstone\\practice_1007\\labelImg\n"
     ]
    }
   ],
   "source": [
    "cd labelImg"
   ]
  },
  {
   "cell_type": "code",
   "execution_count": 14,
   "id": "5b5a9002",
   "metadata": {},
   "outputs": [],
   "source": [
    "!pyrcc5 -o resources.py resources.qrc"
   ]
  },
  {
   "cell_type": "code",
   "execution_count": 16,
   "id": "7b93c268",
   "metadata": {},
   "outputs": [
    {
     "name": "stdout",
     "output_type": "stream",
     "text": [
      "C:\\Users\\FBK\\Desktop\\capstone\\practice_1007\n"
     ]
    }
   ],
   "source": [
    "cd .."
   ]
  },
  {
   "cell_type": "code",
   "execution_count": 17,
   "id": "00369392",
   "metadata": {},
   "outputs": [
    {
     "name": "stderr",
     "output_type": "stream",
     "text": [
      "Traceback (most recent call last):\n",
      "  File \"labelImg/labelImg.py\", line 33, in <module>\n",
      "    from libs.resources import *\n",
      "ModuleNotFoundError: No module named 'libs.resources'\n"
     ]
    }
   ],
   "source": [
    "!python labelImg/labelImg.py"
   ]
  },
  {
   "cell_type": "code",
   "execution_count": 18,
   "id": "5a94bcd6",
   "metadata": {},
   "outputs": [
    {
     "name": "stdout",
     "output_type": "stream",
     "text": [
      "C:\\Users\\FBK\\Desktop\\capstone\\practice_1007\\labelImg\n"
     ]
    }
   ],
   "source": [
    "cd labelImg"
   ]
  },
  {
   "cell_type": "code",
   "execution_count": 19,
   "id": "0cda4552",
   "metadata": {},
   "outputs": [],
   "source": [
    "!pyrcc5 -o libs/resources.py resources.qrc"
   ]
  },
  {
   "cell_type": "code",
   "execution_count": 20,
   "id": "d33725b9",
   "metadata": {},
   "outputs": [
    {
     "name": "stdout",
     "output_type": "stream",
     "text": [
      "C:\\Users\\FBK\\Desktop\\capstone\\practice_1007\n"
     ]
    }
   ],
   "source": [
    "cd .."
   ]
  },
  {
   "cell_type": "code",
   "execution_count": 21,
   "id": "0d2c4e37",
   "metadata": {},
   "outputs": [
    {
     "name": "stdout",
     "output_type": "stream",
     "text": [
      "Image:C:\\Users\\FBK\\Desktop\\capstone\\practice_1007\\frame\\00000.jpg -> Annotation:C:/Users/FBK/Desktop/capstone/practice_1007/label/00000.xml\n",
      "Image:C:\\Users\\FBK\\Desktop\\capstone\\practice_1007\\frame\\00001.jpg -> Annotation:C:/Users/FBK/Desktop/capstone/practice_1007/frame/00001.xml\n",
      "Image:C:\\Users\\FBK\\Desktop\\capstone\\practice_1007\\frame\\00002.jpg -> Annotation:C:/Users/FBK/Desktop/capstone/practice_1007/frame/00002.xml\n",
      "Image:C:\\Users\\FBK\\Desktop\\capstone\\practice_1007\\frame\\00003.jpg -> Annotation:C:/Users/FBK/Desktop/capstone/practice_1007/frame/00003.xml\n",
      "Image:C:\\Users\\FBK\\Desktop\\capstone\\practice_1007\\frame\\00004.jpg -> Annotation:C:/Users/FBK/Desktop/capstone/practice_1007/frame/00004.xml\n",
      "Image:C:\\Users\\FBK\\Desktop\\capstone\\practice_1007\\frame\\00005.jpg -> Annotation:C:/Users/FBK/Desktop/capstone/practice_1007/frame/00005.xml\n",
      "Image:C:\\Users\\FBK\\Desktop\\capstone\\practice_1007\\frame\\00006.jpg -> Annotation:C:/Users/FBK/Desktop/capstone/practice_1007/frame/00006.xml\n"
     ]
    },
    {
     "name": "stderr",
     "output_type": "stream",
     "text": [
      "labelImg/labelImg.py:208: DeprecationWarning: an integer is required (got type DockWidgetFeatures).  Implicit conversion to integers using __int__ is deprecated, and may be removed in a future version of Python.\n",
      "  self.dock.setFeatures(self.dock.features() ^ self.dock_features)\n",
      "labelImg/labelImg.py:971: DeprecationWarning: an integer is required (got type float).  Implicit conversion to integers using __int__ is deprecated, and may be removed in a future version of Python.\n",
      "  self.zoom_widget.setValue(value)\n",
      "labelImg/labelImg.py:1025: DeprecationWarning: an integer is required (got type float).  Implicit conversion to integers using __int__ is deprecated, and may be removed in a future version of Python.\n",
      "  h_bar.setValue(new_h_bar_value)\n",
      "labelImg/labelImg.py:1026: DeprecationWarning: an integer is required (got type float).  Implicit conversion to integers using __int__ is deprecated, and may be removed in a future version of Python.\n",
      "  v_bar.setValue(new_v_bar_value)\n",
      "labelImg/labelImg.py:965: DeprecationWarning: an integer is required (got type float).  Implicit conversion to integers using __int__ is deprecated, and may be removed in a future version of Python.\n",
      "  bar.setValue(bar.value() + bar.singleStep() * units)\n"
     ]
    }
   ],
   "source": [
    "!python labelImg/labelImg.py"
   ]
  },
  {
   "cell_type": "code",
   "execution_count": null,
   "id": "9496676b",
   "metadata": {},
   "outputs": [],
   "source": []
  }
 ],
 "metadata": {
  "kernelspec": {
   "display_name": "Python 3",
   "language": "python",
   "name": "python3"
  },
  "language_info": {
   "codemirror_mode": {
    "name": "ipython",
    "version": 3
   },
   "file_extension": ".py",
   "mimetype": "text/x-python",
   "name": "python",
   "nbconvert_exporter": "python",
   "pygments_lexer": "ipython3",
   "version": "3.8.8"
  }
 },
 "nbformat": 4,
 "nbformat_minor": 5
}
