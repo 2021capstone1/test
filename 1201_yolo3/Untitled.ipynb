{
 "cells": [
  {
   "cell_type": "code",
   "execution_count": 1,
   "id": "c060242a",
   "metadata": {},
   "outputs": [
    {
     "name": "stderr",
     "output_type": "stream",
     "text": [
      "Traceback (most recent call last):\n",
      "  File \"C:\\Users\\FBK\\Documents\\jupyter\\1202_yolo3\\convert.py\", line 18, in <module>\n",
      "    from keras.layers.normalization import BatchNormalization\n",
      "ImportError: cannot import name 'BatchNormalization' from 'keras.layers.normalization' (C:\\Users\\FBK\\anaconda3\\lib\\site-packages\\keras\\layers\\normalization\\__init__.py)\n"
     ]
    }
   ],
   "source": [
    "!python convert.py yolov3-tiny.cfg yolov3-tiny.weights model_data/yolo_tiny.h5"
   ]
  },
  {
   "cell_type": "code",
   "execution_count": null,
   "id": "92479674",
   "metadata": {},
   "outputs": [],
   "source": []
  }
 ],
 "metadata": {
  "kernelspec": {
   "display_name": "Python 3 (ipykernel)",
   "language": "python",
   "name": "python3"
  },
  "language_info": {
   "codemirror_mode": {
    "name": "ipython",
    "version": 3
   },
   "file_extension": ".py",
   "mimetype": "text/x-python",
   "name": "python",
   "nbconvert_exporter": "python",
   "pygments_lexer": "ipython3",
   "version": "3.9.7"
  }
 },
 "nbformat": 4,
 "nbformat_minor": 5
}
