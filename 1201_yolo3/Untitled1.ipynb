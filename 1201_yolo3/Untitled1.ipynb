{
 "cells": [
  {
   "cell_type": "code",
   "execution_count": null,
   "id": "33a39874",
   "metadata": {},
   "outputs": [],
   "source": [
    "#convert annotation\n",
    "import xml.etree.ElementTree as ET\n",
    "from os import getcwd\n",
    "import glob\n",
    "\n",
    "def convert_annotation(annotation_voc, train_all_file):\n",
    "    tree = ET.parse(annotation_voc)\n",
    "    root = tree.getroot()\n",
    "\n",
    "    for obj in root.iter('object'):\n",
    "        difficult = obj.find('difficult').text\n",
    "        cls = obj.find('name').text\n",
    "        if cls not in classes or int(difficult)==1: continue\n",
    "        cls_id = classes.index(cls)\n",
    "        xmlbox = obj.find('bndbox')\n",
    "        b = (int(xmlbox.find('xmin').text), int(xmlbox.find('ymin').text), int(xmlbox.find('xmax').text), int(xmlbox.find('ymax').text))\n",
    "        train_all_file.write(\" \" + \",\".join([str(a) for a in b]) + ',' + str(cls_id))\n",
    "\n",
    "train_all_file = open('./data/light/train_all.txt', 'w')\n",
    "\n",
    "# Get annotations_voc list\n",
    "for className in classes:\n",
    "    annotations_voc = glob.glob(f'./data/light/label/train/{className}/*.xml')\n",
    "    for annotation_voc in annotations_voc:\n",
    "        image_id = annotation_voc.split('/')[-1].split('.')[0]+'.jpg'\n",
    "        train_all_file.write(f'./data/light/image/train/{className}/{image_id}')\n",
    "        convert_annotation(annotation_voc, train_all_file)\n",
    "        train_all_file.write('\\n')\n",
    "train_all_file.close()"
   ]
  }
 ],
 "metadata": {
  "kernelspec": {
   "display_name": "Python 3 (ipykernel)",
   "language": "python",
   "name": "python3"
  },
  "language_info": {
   "codemirror_mode": {
    "name": "ipython",
    "version": 3
   },
   "file_extension": ".py",
   "mimetype": "text/x-python",
   "name": "python",
   "nbconvert_exporter": "python",
   "pygments_lexer": "ipython3",
   "version": "3.9.7"
  }
 },
 "nbformat": 4,
 "nbformat_minor": 5
}
