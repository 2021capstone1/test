{
 "cells": [
  {
   "cell_type": "code",
   "execution_count": 27,
   "id": "19cb010e",
   "metadata": {},
   "outputs": [
    {
     "data": {
      "text/plain": [
       "'C:\\\\Users\\\\FBK\\\\Desktop\\\\capstone\\\\practice_1007'"
      ]
     },
     "execution_count": 27,
     "metadata": {},
     "output_type": "execute_result"
    }
   ],
   "source": [
    "pwd"
   ]
  },
  {
   "cell_type": "code",
   "execution_count": 21,
   "id": "b46b8f18",
   "metadata": {},
   "outputs": [
    {
     "name": "stdout",
     "output_type": "stream",
     "text": [
      "C:\\Users\\FBK\\Desktop\\capstone\\practice_1007\\label\n",
      "['00000.xml', '00001.xml', '00002.xml', '00003.xml', '00004.xml', '00005.xml', '00006.xml']\n",
      "00000.xml\n",
      "00001.xml\n",
      "00002.xml\n",
      "00003.xml\n",
      "00004.xml\n",
      "00005.xml\n",
      "00006.xml\n"
     ]
    }
   ],
   "source": [
    "import os\n",
    "\n",
    "targerdir = r\"C:\\Users\\FBK\\Desktop\\capstone\\practice_1007\\label\"\n",
    "print(targerdir)\n",
    "\n",
    "files = os.listdir(targerdir)\n",
    "print(files)\n",
    "\n",
    "for i in files :\n",
    "    print(i)"
   ]
  },
  {
   "cell_type": "markdown",
   "id": "6421488a",
   "metadata": {},
   "source": [
    "### 이미지 resizing"
   ]
  },
  {
   "cell_type": "code",
   "execution_count": 20,
   "id": "93c04a22",
   "metadata": {},
   "outputs": [],
   "source": [
    "from PIL import Image\n",
    "import os\n",
    "\n",
    "img_path = r\"./img\"\n",
    "img_files = os.listdir(img_path)\n",
    "\n",
    "new_img_path = r\"./resize_img\"\n",
    "\n",
    "def resizeImg(files, imgPath, newImgPath):\n",
    "    if not os.path.exists(newImgPath):\n",
    "        os.makedirs(newImgPath)\n",
    "        \n",
    "    for image_file in files:\n",
    "        image = Image.open(imgPath + '/' + image_file)\n",
    "        resize_image = image.resize((108, 192))\n",
    "        resize_image.save(newImgPath + '/' + image_file)\n",
    "\n",
    "resizeImg(img_files, img_path, new_img_path)"
   ]
  },
  {
   "cell_type": "code",
   "execution_count": 21,
   "id": "7a0f21c7",
   "metadata": {},
   "outputs": [
    {
     "data": {
      "text/plain": [
       "'C:\\\\Users\\\\FBK\\\\Desktop\\\\capstone\\\\practice_1007'"
      ]
     },
     "execution_count": 21,
     "metadata": {},
     "output_type": "execute_result"
    }
   ],
   "source": [
    "pwd"
   ]
  },
  {
   "cell_type": "markdown",
   "id": "59e083a6",
   "metadata": {},
   "source": [
    "### xml resizing\n",
    "\n",
    "* xml파일에서 path, width, height 수정 필요할 시, 추가 예정"
   ]
  },
  {
   "cell_type": "code",
   "execution_count": 22,
   "id": "4c38facd",
   "metadata": {
    "scrolled": true
   },
   "outputs": [],
   "source": [
    "import cv2\n",
    "import os\n",
    "import xml.etree.ElementTree as ET\n",
    "\n",
    "xml_path = r\"./xml\"\n",
    "xml_files = os.listdir(xml_dir)\n",
    "\n",
    "new_xml_path = r\"./resize_xml\"\n",
    "\n",
    "def resizeLabel(files, xmlPath, newXmlPath):\n",
    "    if not os.path.exists(newXmlPath):\n",
    "        os.makedirs(newImgPath)\n",
    "    \n",
    "    for xml_file in files:\n",
    "        tree = ET.parse(xmlPath + '/' + xml_file)\n",
    "        new_file = newXmlPath + '/' + xml_file\n",
    "        \n",
    "        # bounding box 변경\n",
    "        objects = tree.findall('./object')\n",
    "        for i, object_ in enumerate(objects):\n",
    "            bndbox = object_.find('./bndbox')\n",
    "            bndbox.find('./xmin').text = str(float(bndbox.find('./xmin').text) / 10)\n",
    "            bndbox.find('./ymin').text = str(float(bndbox.find('./ymin').text) / 10)\n",
    "            bndbox.find('./xmax').text = str(float(bndbox.find('./xmax').text) / 10)\n",
    "            bndbox.find('./ymax').text = str(float(bndbox.find('./ymax').text) / 10)\n",
    "        tree.write(new_file, encoding='utf8')\n",
    "\n",
    "resizeLabel(xml_files, xml_path, new_xml_path)"
   ]
  },
  {
   "cell_type": "markdown",
   "id": "07aeb7c4",
   "metadata": {},
   "source": [
    "### test 코드"
   ]
  },
  {
   "cell_type": "code",
   "execution_count": null,
   "id": "9fd36129",
   "metadata": {},
   "outputs": [],
   "source": [
    "import xml.etree.ElementTree as ET\n",
    "from xml.etree.ElementTree import Element, dump, ElementTree\n",
    "\n",
    "xml_file = 'D:\\\\test.xml'\n",
    "doc = ET.parse(xml_file)\n",
    "\n",
    "#root 노드 가져오기\n",
    "root = doc.getroot()\n",
    "\n",
    "size_tag = root.findall(\"size\")\n",
    "print(size_tag[0].find(\"width\").text)\n",
    "\n",
    "for object in root.iter(\"object\"):\n",
    "    print(object.find(\"bndbox\").findtext(\"xmin\"))"
   ]
  },
  {
   "cell_type": "code",
   "execution_count": 172,
   "id": "341069b4",
   "metadata": {},
   "outputs": [
    {
     "name": "stdout",
     "output_type": "stream",
     "text": [
      "[[0, 1, 2, 3], [0, 1, 2, 3], [0, 1, 2, 3], [0, 1, 2, 3], [0, 1, 2, 3], [0, 1, 2, 3], [0, 1, 2, 3]]\n",
      "[0, 1, 2, 3]\n",
      "[[1, 2, 3, 4], [11, 12, 13, 14], [21, 22, 23, 24], [31, 32, 33, 34], [41, 42, 43, 44], [51, 52, 53, 54], [61, 62, 63, 64]]\n",
      "[1, 2, 3, 4]\n"
     ]
    }
   ],
   "source": [
    "tmp1 = [[i for i in range(4)]] * 7\n",
    "tmp2 = [[1,2,3,4], [11,12,13,14], [21,22,23,24], [31,32,33,34], [41,42,43,44], [51,52,53,54], [61,62,63,64]]\n",
    "\n",
    "print(tmp1)\n",
    "print(tmp1[0])\n",
    "print(tmp2)\n",
    "print(tmp2[0])\n",
    "\n",
    "# 이미지 재조정한 비율 저장\n",
    "# 좌표 위치를 비율로 나누기"
   ]
  },
  {
   "cell_type": "raw",
   "id": "01462a33",
   "metadata": {},
   "source": [
    "import xml.etree.ElementTree as ET\n",
    "from xml.etree.ElementTree import Element, dump, ElementTree\n",
    "\n",
    "# 파일들의 [xmin, ymin, xmsx, ymax] 가 저장된 boxes 저장\n",
    "def getRectFromXML(dir_path, files):\n",
    "    boxes = [[0] * 4] * len(files)\n",
    "    print(boxes)\n",
    "    \n",
    "    for i, file in enumerate(files):\n",
    "        xml_file = dir_path + '/' + file\n",
    "        tree = ET.parse(xml_file)\n",
    "        \n",
    "        objects = tree.findall('./object')\n",
    "        \n",
    "        for object_ in objects:\n",
    "            \n",
    "            bndbox = object_.find('./bndbox')\n",
    "            boxes[i][0] = bndbox.find('./xmin').text\n",
    "            boxes[i][1] = bndbox.find('./ymin').text\n",
    "            boxes[i][2] = bndbox.find('./xmax').text\n",
    "            boxes[i][3] = bndbox.find('./ymax').text\n",
    "            print(i, boxes)\n",
    "        \n",
    "        #print(boxes)\n",
    "    \n",
    "    return boxes"
   ]
  },
  {
   "cell_type": "raw",
   "id": "c8c1cec6",
   "metadata": {},
   "source": [
    "import xml.etree.ElementTree as ET\n",
    "from xml.etree.ElementTree import Element, dump, ElementTree\n",
    "\n",
    "# 파일들의 [xmin, ymin, xmsx, ymax] 가 저장된 boxes 저장\n",
    "def getRectFromXML(dir_path, files):\n",
    "    boxes = [[0] * 4] * len(files)\n",
    "    print(boxes)\n",
    "    \n",
    "    for file in files:\n",
    "        xml_file = dir_path + '/' + file\n",
    "        tree = ET.parse(xml_file)\n",
    "        \n",
    "        objects = tree.findall('./object')\n",
    "        \n",
    "        for i, object_ in enumerate(objects):\n",
    "            \n",
    "            bndbox = object_.find('./bndbox')\n",
    "            boxes[i][0] = bndbox.find('./xmin').text\n",
    "            boxes[i][1] = bndbox.find('./ymin').text\n",
    "            boxes[i][2] = bndbox.find('./xmax').text\n",
    "            boxes[i][3] = bndbox.find('./ymax').text\n",
    "            print(boxes[0])\n",
    "        \n",
    "        #print(boxes)\n",
    "    \n",
    "    return boxes"
   ]
  },
  {
   "cell_type": "code",
   "execution_count": 174,
   "id": "6f9830c3",
   "metadata": {},
   "outputs": [
    {
     "name": "stdout",
     "output_type": "stream",
     "text": [
      "[[[0, 0, 0, 0]], [[0, 0, 0, 0]], [[0, 0, 0, 0]], [[0, 0, 0, 0]], [[0, 0, 0, 0]], [[0, 0, 0, 0]], [[0, 0, 0, 0]]]\n"
     ]
    },
    {
     "ename": "IndexError",
     "evalue": "list assignment index out of range",
     "output_type": "error",
     "traceback": [
      "\u001b[1;31m---------------------------------------------------------------------------\u001b[0m",
      "\u001b[1;31mIndexError\u001b[0m                                Traceback (most recent call last)",
      "\u001b[1;32m<ipython-input-174-47060c39fe2b>\u001b[0m in \u001b[0;36m<module>\u001b[1;34m\u001b[0m\n\u001b[0;32m     10\u001b[0m     \u001b[0mlabel_file\u001b[0m \u001b[1;33m=\u001b[0m \u001b[1;34mf'{label_dir}/{label_file}'\u001b[0m\u001b[1;33m\u001b[0m\u001b[1;33m\u001b[0m\u001b[0m\n\u001b[0;32m     11\u001b[0m     \u001b[1;31m#w, h = getSizeFromXML(label_file_path)\u001b[0m\u001b[1;33m\u001b[0m\u001b[1;33m\u001b[0m\u001b[1;33m\u001b[0m\u001b[0m\n\u001b[1;32m---> 12\u001b[1;33m     \u001b[0mbboxes\u001b[0m \u001b[1;33m=\u001b[0m \u001b[0mgetRectFromXML\u001b[0m\u001b[1;33m(\u001b[0m\u001b[0mlabel_dir\u001b[0m\u001b[1;33m,\u001b[0m \u001b[0mlabel_files\u001b[0m\u001b[1;33m)\u001b[0m\u001b[1;33m\u001b[0m\u001b[1;33m\u001b[0m\u001b[0m\n\u001b[0m\u001b[0;32m     13\u001b[0m     \u001b[0mprint\u001b[0m\u001b[1;33m(\u001b[0m\u001b[0mbboxes\u001b[0m\u001b[1;33m)\u001b[0m\u001b[1;33m\u001b[0m\u001b[1;33m\u001b[0m\u001b[0m\n\u001b[0;32m     14\u001b[0m \u001b[1;33m\u001b[0m\u001b[0m\n",
      "\u001b[1;32m<ipython-input-173-b6c623933ec0>\u001b[0m in \u001b[0;36mgetRectFromXML\u001b[1;34m(dir_path, files)\u001b[0m\n\u001b[0;32m     17\u001b[0m             \u001b[0mbndbox\u001b[0m \u001b[1;33m=\u001b[0m \u001b[0mobject_\u001b[0m\u001b[1;33m.\u001b[0m\u001b[0mfind\u001b[0m\u001b[1;33m(\u001b[0m\u001b[1;34m'./bndbox'\u001b[0m\u001b[1;33m)\u001b[0m\u001b[1;33m\u001b[0m\u001b[1;33m\u001b[0m\u001b[0m\n\u001b[0;32m     18\u001b[0m             \u001b[0mboxes\u001b[0m\u001b[1;33m[\u001b[0m\u001b[0mi\u001b[0m\u001b[1;33m]\u001b[0m\u001b[1;33m[\u001b[0m\u001b[1;36m0\u001b[0m\u001b[1;33m]\u001b[0m \u001b[1;33m=\u001b[0m \u001b[0mbndbox\u001b[0m\u001b[1;33m.\u001b[0m\u001b[0mfind\u001b[0m\u001b[1;33m(\u001b[0m\u001b[1;34m'./xmin'\u001b[0m\u001b[1;33m)\u001b[0m\u001b[1;33m.\u001b[0m\u001b[0mtext\u001b[0m\u001b[1;33m\u001b[0m\u001b[1;33m\u001b[0m\u001b[0m\n\u001b[1;32m---> 19\u001b[1;33m             \u001b[0mboxes\u001b[0m\u001b[1;33m[\u001b[0m\u001b[0mi\u001b[0m\u001b[1;33m]\u001b[0m\u001b[1;33m[\u001b[0m\u001b[1;36m1\u001b[0m\u001b[1;33m]\u001b[0m \u001b[1;33m=\u001b[0m \u001b[0mbndbox\u001b[0m\u001b[1;33m.\u001b[0m\u001b[0mfind\u001b[0m\u001b[1;33m(\u001b[0m\u001b[1;34m'./ymin'\u001b[0m\u001b[1;33m)\u001b[0m\u001b[1;33m.\u001b[0m\u001b[0mtext\u001b[0m\u001b[1;33m\u001b[0m\u001b[1;33m\u001b[0m\u001b[0m\n\u001b[0m\u001b[0;32m     20\u001b[0m             \u001b[0mboxes\u001b[0m\u001b[1;33m[\u001b[0m\u001b[0mi\u001b[0m\u001b[1;33m]\u001b[0m\u001b[1;33m[\u001b[0m\u001b[1;36m2\u001b[0m\u001b[1;33m]\u001b[0m \u001b[1;33m=\u001b[0m \u001b[0mbndbox\u001b[0m\u001b[1;33m.\u001b[0m\u001b[0mfind\u001b[0m\u001b[1;33m(\u001b[0m\u001b[1;34m'./xmax'\u001b[0m\u001b[1;33m)\u001b[0m\u001b[1;33m.\u001b[0m\u001b[0mtext\u001b[0m\u001b[1;33m\u001b[0m\u001b[1;33m\u001b[0m\u001b[0m\n\u001b[0;32m     21\u001b[0m             \u001b[0mboxes\u001b[0m\u001b[1;33m[\u001b[0m\u001b[0mi\u001b[0m\u001b[1;33m]\u001b[0m\u001b[1;33m[\u001b[0m\u001b[1;36m3\u001b[0m\u001b[1;33m]\u001b[0m \u001b[1;33m=\u001b[0m \u001b[0mbndbox\u001b[0m\u001b[1;33m.\u001b[0m\u001b[0mfind\u001b[0m\u001b[1;33m(\u001b[0m\u001b[1;34m'./ymax'\u001b[0m\u001b[1;33m)\u001b[0m\u001b[1;33m.\u001b[0m\u001b[0mtext\u001b[0m\u001b[1;33m\u001b[0m\u001b[1;33m\u001b[0m\u001b[0m\n",
      "\u001b[1;31mIndexError\u001b[0m: list assignment index out of range"
     ]
    }
   ],
   "source": [
    "import cv2\n",
    "\n",
    "label_dir = r\"./label\"\n",
    "label_files = os.listdir(label_dir)\n",
    "\n",
    "new_label_path = r\"./resize_label\"\n",
    "\n",
    "for label_file in label_files:\n",
    "    fileName = str(label_file).split('.')[0]\n",
    "    label_file = f'{label_dir}/{label_file}'\n",
    "    #w, h = getSizeFromXML(label_file_path)\n",
    "    bboxes = getRectFromXML(label_dir, label_files)\n",
    "    print(bboxes)\n",
    "\n",
    "    # Save label\n",
    "    if not os.path.exists(new_label_path):\n",
    "        os.makedirs(new_label_path)\n",
    "    \n",
    "    new_label_file = new_label_path + fileName + '.xml'\n",
    "    changeLabel(label_file, new_label_file, new_label_path, bboxes)"
   ]
  },
  {
   "cell_type": "code",
   "execution_count": null,
   "id": "840e9954",
   "metadata": {},
   "outputs": [],
   "source": [
    "for imgFile in imgFiles:\n",
    "    fileName = imgFile.split('.')[0]\n",
    "    label = f'{labelPath}{fileName}.xml'\n",
    "    w, h = getSizeFromXML(label)\n",
    "\n",
    "    # opencv loads images in bgr. the [:,:,::-1] does bgr -> rgb\n",
    "    image = cv2.imread(imgPath + imgFile)[:,:,::-1]\n",
    "    bboxes = getRectFromXML(classes, label)\n",
    "\n",
    "    # HorizontalFlip image\n",
    "    image, bboxes = RandomHorizontalFlip(1)(image.copy(), bboxes.copy())\n",
    "\n",
    "    # Save image\n",
    "    image = Image.fromarray(image, 'RGB')\n",
    "    newImgPath = f'./data/light/image/train/{className}/'\n",
    "    if not os.path.exists(newImgPath):\n",
    "        os.makedirs(newImgPath)\n",
    "    image.save(newImgPath + imgFile)\n",
    "\n",
    "    # Save label\n",
    "    newXmlPath = f'./data/light/label/train/{className}/'\n",
    "    if not os.path.exists(newXmlPath):\n",
    "        os.makedirs(newXmlPath)\n",
    "    newXmlPath = newXmlPath + fileName + '.xml'\n",
    "    changeLabel(label, newXmlPath, newImgPath, bboxes)"
   ]
  },
  {
   "cell_type": "code",
   "execution_count": null,
   "id": "82d1fbf7",
   "metadata": {},
   "outputs": [],
   "source": []
  }
 ],
 "metadata": {
  "kernelspec": {
   "display_name": "Python 3",
   "language": "python",
   "name": "python3"
  },
  "language_info": {
   "codemirror_mode": {
    "name": "ipython",
    "version": 3
   },
   "file_extension": ".py",
   "mimetype": "text/x-python",
   "name": "python",
   "nbconvert_exporter": "python",
   "pygments_lexer": "ipython3",
   "version": "3.8.8"
  }
 },
 "nbformat": 4,
 "nbformat_minor": 5
}
