{
 "cells": [
  {
   "cell_type": "code",
   "execution_count": 51,
   "id": "c6744db8",
   "metadata": {},
   "outputs": [],
   "source": [
    "import xml.etree.ElementTree as ET\n",
    "from os import getcwd\n",
    "import glob\n",
    "\n",
    "classes = [\"deer\", \"beam\", \"gcooter\", \"others\"]\n",
    "\n",
    "def convert_annotation(annotation_voc, train_all_file, class_id):\n",
    "    txt_file = open(f'{annotation_voc}', 'r')\n",
    "    box_list = txt_file.read().split('\\n')[0].split(' ')[1:]\n",
    "\n",
    "    box = ''\n",
    "    for b in box_list:\n",
    "        if box == '':\n",
    "            box = b\n",
    "        else:\n",
    "            box = box + ',' + b\n",
    "        #print(box)\n",
    "    train_all_file.write(\" \"+ box + ',' + str(class_id))\n",
    "\n",
    "train_all_file = open('./data/light/train_all.txt', 'w')\n",
    "\n",
    "# Get annotations_voc list\n",
    "for className in classes:\n",
    "    annotations_voc = glob.glob(f'./data/light/image/train/v*.txt')\n",
    "    for annotation_voc in annotations_voc:\n",
    "        #print(annotation_voc)\n",
    "        #print(annotation_voc.split('/')[-1].split('\\\\')[-1].split('.')[0])\n",
    "        \n",
    "        txt_file = open(f'{annotation_voc}', 'r')\n",
    "        class_id = txt_file.read().split('\\n')[0].split(' ')[0]\n",
    "        \n",
    "        ''' class 여러개일 경우\n",
    "        class_id = []\n",
    "        for line in txt_file.read().split('\\n'):\n",
    "            if line != '':\n",
    "                class_id.append(line.split(' ')[0])\n",
    "        print(class_id)\n",
    "        '''\n",
    "        \n",
    "        image_id = annotation_voc.split('/')[-1].split('\\\\')[-1].split('.')[0]+'.JPG'\n",
    "        train_all_file.write(f'./data/light/image/train/{class_id}/{image_id}')\n",
    "        convert_annotation(annotation_voc, train_all_file, class_id)\n",
    "        train_all_file.write('\\n')\n",
    "train_all_file.close()"
   ]
  },
  {
   "cell_type": "code",
   "execution_count": null,
   "id": "1e548366",
   "metadata": {},
   "outputs": [],
   "source": []
  }
 ],
 "metadata": {
  "kernelspec": {
   "display_name": "Python 3 (ipykernel)",
   "language": "python",
   "name": "python3"
  },
  "language_info": {
   "codemirror_mode": {
    "name": "ipython",
    "version": 3
   },
   "file_extension": ".py",
   "mimetype": "text/x-python",
   "name": "python",
   "nbconvert_exporter": "python",
   "pygments_lexer": "ipython3",
   "version": "3.9.9"
  }
 },
 "nbformat": 4,
 "nbformat_minor": 5
}
